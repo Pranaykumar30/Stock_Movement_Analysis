{
 "cells": [
  {
   "cell_type": "code",
   "execution_count": 4,
   "id": "a33b0d5b-bd41-489e-8e52-88c53dab67b6",
   "metadata": {},
   "outputs": [
    {
     "name": "stdout",
     "output_type": "stream",
     "text": [
      "Collecting vaderSentimentNote: you may need to restart the kernel to use updated packages.\n",
      "\n",
      "  Using cached vaderSentiment-3.3.2-py2.py3-none-any.whl.metadata (572 bytes)\n",
      "Requirement already satisfied: requests in c:\\users\\prana\\appdata\\local\\programs\\python\\python311\\lib\\site-packages (from vaderSentiment) (2.31.0)\n",
      "Requirement already satisfied: charset-normalizer<4,>=2 in c:\\users\\prana\\appdata\\local\\programs\\python\\python311\\lib\\site-packages (from requests->vaderSentiment) (3.2.0)\n",
      "Requirement already satisfied: idna<4,>=2.5 in c:\\users\\prana\\appdata\\local\\programs\\python\\python311\\lib\\site-packages (from requests->vaderSentiment) (3.4)\n",
      "Requirement already satisfied: urllib3<3,>=1.21.1 in c:\\users\\prana\\appdata\\local\\programs\\python\\python311\\lib\\site-packages (from requests->vaderSentiment) (2.0.4)\n",
      "Requirement already satisfied: certifi>=2017.4.17 in c:\\users\\prana\\appdata\\local\\programs\\python\\python311\\lib\\site-packages (from requests->vaderSentiment) (2023.7.22)\n",
      "Using cached vaderSentiment-3.3.2-py2.py3-none-any.whl (125 kB)\n",
      "Installing collected packages: vaderSentiment\n",
      "Successfully installed vaderSentiment-3.3.2\n"
     ]
    }
   ],
   "source": [
    "pip install vaderSentiment"
   ]
  },
  {
   "cell_type": "code",
   "execution_count": 5,
   "id": "306be3e3-4a81-48c3-9e2c-7f6f501e95e5",
   "metadata": {},
   "outputs": [],
   "source": [
    "import pandas as pd\n",
    "from vaderSentiment.vaderSentiment import SentimentIntensityAnalyzer"
   ]
  },
  {
   "cell_type": "code",
   "execution_count": 6,
   "id": "11f5c60a-de7d-41fa-982b-6f3cdaed3046",
   "metadata": {},
   "outputs": [],
   "source": [
    "df = pd.read_csv(\"reddit_posts.csv\")"
   ]
  },
  {
   "cell_type": "code",
   "execution_count": 7,
   "id": "2346bdf4-d4eb-4f59-9042-170d0b28e386",
   "metadata": {},
   "outputs": [
    {
     "data": {
      "text/html": [
       "<div>\n",
       "<style scoped>\n",
       "    .dataframe tbody tr th:only-of-type {\n",
       "        vertical-align: middle;\n",
       "    }\n",
       "\n",
       "    .dataframe tbody tr th {\n",
       "        vertical-align: top;\n",
       "    }\n",
       "\n",
       "    .dataframe thead th {\n",
       "        text-align: right;\n",
       "    }\n",
       "</style>\n",
       "<table border=\"1\" class=\"dataframe\">\n",
       "  <thead>\n",
       "    <tr style=\"text-align: right;\">\n",
       "      <th></th>\n",
       "      <th>post_id</th>\n",
       "      <th>title</th>\n",
       "      <th>content</th>\n",
       "      <th>subreddit</th>\n",
       "      <th>author</th>\n",
       "      <th>created_utc</th>\n",
       "    </tr>\n",
       "  </thead>\n",
       "  <tbody>\n",
       "    <tr>\n",
       "      <th>0</th>\n",
       "      <td>1h6gd05</td>\n",
       "      <td>SpaceX shares available for investment through...</td>\n",
       "      <td>You can now invest in SpaceX with a SoFi accou...</td>\n",
       "      <td>stocks</td>\n",
       "      <td>Progress_8</td>\n",
       "      <td>1.733320e+09</td>\n",
       "    </tr>\n",
       "    <tr>\n",
       "      <th>1</th>\n",
       "      <td>1h6ftzy</td>\n",
       "      <td>GM expects more than $5 billion impact from Ch...</td>\n",
       "      <td>General Motors expects a restructuring of its ...</td>\n",
       "      <td>stocks</td>\n",
       "      <td>Puginator</td>\n",
       "      <td>1.733318e+09</td>\n",
       "    </tr>\n",
       "    <tr>\n",
       "      <th>2</th>\n",
       "      <td>1h6ffnf</td>\n",
       "      <td>Whats going on with the french index?</td>\n",
       "      <td>Let's talk about the french CAC 40 index.\\n \\n...</td>\n",
       "      <td>stocks</td>\n",
       "      <td>Slight_Candy</td>\n",
       "      <td>1.733317e+09</td>\n",
       "    </tr>\n",
       "    <tr>\n",
       "      <th>3</th>\n",
       "      <td>1h6d0rv</td>\n",
       "      <td>r/Stocks Daily Discussion Wednesday - Dec 04, ...</td>\n",
       "      <td>These daily discussions run from Monday to Fri...</td>\n",
       "      <td>stocks</td>\n",
       "      <td>AutoModerator</td>\n",
       "      <td>1.733308e+09</td>\n",
       "    </tr>\n",
       "    <tr>\n",
       "      <th>4</th>\n",
       "      <td>1h691u7</td>\n",
       "      <td>I Want to Hear Your Thoughts on the Qualities ...</td>\n",
       "      <td>With Pat Gelsinger retiring, the company is on...</td>\n",
       "      <td>stocks</td>\n",
       "      <td>Intelligent-Snow-930</td>\n",
       "      <td>1.733291e+09</td>\n",
       "    </tr>\n",
       "  </tbody>\n",
       "</table>\n",
       "</div>"
      ],
      "text/plain": [
       "   post_id                                              title  \\\n",
       "0  1h6gd05  SpaceX shares available for investment through...   \n",
       "1  1h6ftzy  GM expects more than $5 billion impact from Ch...   \n",
       "2  1h6ffnf              Whats going on with the french index?   \n",
       "3  1h6d0rv  r/Stocks Daily Discussion Wednesday - Dec 04, ...   \n",
       "4  1h691u7  I Want to Hear Your Thoughts on the Qualities ...   \n",
       "\n",
       "                                             content subreddit  \\\n",
       "0  You can now invest in SpaceX with a SoFi accou...    stocks   \n",
       "1  General Motors expects a restructuring of its ...    stocks   \n",
       "2  Let's talk about the french CAC 40 index.\\n \\n...    stocks   \n",
       "3  These daily discussions run from Monday to Fri...    stocks   \n",
       "4  With Pat Gelsinger retiring, the company is on...    stocks   \n",
       "\n",
       "                 author   created_utc  \n",
       "0            Progress_8  1.733320e+09  \n",
       "1             Puginator  1.733318e+09  \n",
       "2          Slight_Candy  1.733317e+09  \n",
       "3         AutoModerator  1.733308e+09  \n",
       "4  Intelligent-Snow-930  1.733291e+09  "
      ]
     },
     "execution_count": 7,
     "metadata": {},
     "output_type": "execute_result"
    }
   ],
   "source": [
    "df.head()"
   ]
  },
  {
   "cell_type": "code",
   "execution_count": 8,
   "id": "e779b9d5-0545-4a41-8c4d-e59b894a15de",
   "metadata": {},
   "outputs": [
    {
     "data": {
      "text/plain": [
       "Index(['post_id', 'title', 'content', 'subreddit', 'author', 'created_utc'], dtype='object')"
      ]
     },
     "execution_count": 8,
     "metadata": {},
     "output_type": "execute_result"
    }
   ],
   "source": [
    "df.columns"
   ]
  },
  {
   "cell_type": "code",
   "execution_count": 9,
   "id": "18fba5ff-f34a-4ec3-a178-e177f31ae74d",
   "metadata": {},
   "outputs": [
    {
     "data": {
      "text/plain": [
       "post_id        0\n",
       "title          0\n",
       "content        0\n",
       "subreddit      0\n",
       "author         0\n",
       "created_utc    0\n",
       "dtype: int64"
      ]
     },
     "execution_count": 9,
     "metadata": {},
     "output_type": "execute_result"
    }
   ],
   "source": [
    "df.isnull().sum()"
   ]
  },
  {
   "cell_type": "code",
   "execution_count": 11,
   "id": "011c1a68-061f-4390-850c-518077b4f6eb",
   "metadata": {},
   "outputs": [],
   "source": [
    "import re\n",
    "df['content'] = df['content'].apply(lambda x: re.sub(r'http\\S+|www\\S+|https\\S+', '', str(x)))  # Remove URLs\n",
    "df['content'] = df['content'].apply(lambda x: re.sub(r'[^A-Za-z0-9\\s]+', '', str(x)))  # Remove non-alphanumeric characters\n"
   ]
  },
  {
   "cell_type": "code",
   "execution_count": 12,
   "id": "9c47156d-2f59-48b4-808b-b0a0ddea69f2",
   "metadata": {},
   "outputs": [
    {
     "name": "stdout",
     "output_type": "stream",
     "text": [
      "0    You can now invest in SpaceX with a SoFi accou...\n",
      "1    General Motors expects a restructuring of its ...\n",
      "2    Lets talk about the french CAC 40 index\\n \\nIn...\n",
      "3    These daily discussions run from Monday to Fri...\n",
      "4    With Pat Gelsinger retiring the company is onc...\n",
      "Name: content, dtype: object\n"
     ]
    }
   ],
   "source": [
    "print(df['content'].head())"
   ]
  },
  {
   "cell_type": "code",
   "execution_count": 13,
   "id": "3be92098-f7c4-4d5e-b00f-73862602c58f",
   "metadata": {},
   "outputs": [],
   "source": [
    "df.drop_duplicates(subset=[\"post_id\"], keep=\"first\", inplace=True)"
   ]
  },
  {
   "cell_type": "code",
   "execution_count": 14,
   "id": "2c9cd4ba-459e-457b-a725-11880ee530f3",
   "metadata": {},
   "outputs": [
    {
     "name": "stdout",
     "output_type": "stream",
     "text": [
      "(100, 6)\n"
     ]
    }
   ],
   "source": [
    "print(df.shape)"
   ]
  },
  {
   "cell_type": "code",
   "execution_count": 15,
   "id": "53b8fe58-1f0c-4f59-a4e1-5494180951cd",
   "metadata": {},
   "outputs": [],
   "source": [
    "df['created_utc'] = pd.to_datetime(df['created_utc'])"
   ]
  },
  {
   "cell_type": "code",
   "execution_count": 17,
   "id": "e3d6778d-2acb-4d5d-9125-fa32e2b62278",
   "metadata": {},
   "outputs": [
    {
     "name": "stdout",
     "output_type": "stream",
     "text": [
      "datetime64[ns]\n"
     ]
    }
   ],
   "source": [
    "print(df['created_utc'].dtype)"
   ]
  },
  {
   "cell_type": "code",
   "execution_count": 21,
   "id": "85ef0d07-57d3-4c98-b48e-51947a48be0f",
   "metadata": {},
   "outputs": [],
   "source": [
    "df.to_csv('cleaned_reddit_posts.csv', index=False)"
   ]
  },
  {
   "cell_type": "code",
   "execution_count": 22,
   "id": "da6bc7f1-3d97-494a-86f9-22d75a54b2fa",
   "metadata": {},
   "outputs": [
    {
     "data": {
      "text/html": [
       "<div>\n",
       "<style scoped>\n",
       "    .dataframe tbody tr th:only-of-type {\n",
       "        vertical-align: middle;\n",
       "    }\n",
       "\n",
       "    .dataframe tbody tr th {\n",
       "        vertical-align: top;\n",
       "    }\n",
       "\n",
       "    .dataframe thead th {\n",
       "        text-align: right;\n",
       "    }\n",
       "</style>\n",
       "<table border=\"1\" class=\"dataframe\">\n",
       "  <thead>\n",
       "    <tr style=\"text-align: right;\">\n",
       "      <th></th>\n",
       "      <th>post_id</th>\n",
       "      <th>title</th>\n",
       "      <th>content</th>\n",
       "      <th>subreddit</th>\n",
       "      <th>author</th>\n",
       "      <th>created_utc</th>\n",
       "      <th>sentiment</th>\n",
       "    </tr>\n",
       "  </thead>\n",
       "  <tbody>\n",
       "    <tr>\n",
       "      <th>0</th>\n",
       "      <td>1h6gd05</td>\n",
       "      <td>SpaceX shares available for investment through...</td>\n",
       "      <td>You can now invest in SpaceX with a SoFi accou...</td>\n",
       "      <td>stocks</td>\n",
       "      <td>Progress_8</td>\n",
       "      <td>1970-01-01 00:00:01.733319984</td>\n",
       "      <td>0.4404</td>\n",
       "    </tr>\n",
       "    <tr>\n",
       "      <th>1</th>\n",
       "      <td>1h6ftzy</td>\n",
       "      <td>GM expects more than $5 billion impact from Ch...</td>\n",
       "      <td>General Motors expects a restructuring of its ...</td>\n",
       "      <td>stocks</td>\n",
       "      <td>Puginator</td>\n",
       "      <td>1970-01-01 00:00:01.733318480</td>\n",
       "      <td>-0.7184</td>\n",
       "    </tr>\n",
       "    <tr>\n",
       "      <th>2</th>\n",
       "      <td>1h6ffnf</td>\n",
       "      <td>Whats going on with the french index?</td>\n",
       "      <td>Lets talk about the french CAC 40 index\\n \\nIn...</td>\n",
       "      <td>stocks</td>\n",
       "      <td>Slight_Candy</td>\n",
       "      <td>1970-01-01 00:00:01.733317295</td>\n",
       "      <td>-0.8277</td>\n",
       "    </tr>\n",
       "    <tr>\n",
       "      <th>3</th>\n",
       "      <td>1h6d0rv</td>\n",
       "      <td>r/Stocks Daily Discussion Wednesday - Dec 04, ...</td>\n",
       "      <td>These daily discussions run from Monday to Fri...</td>\n",
       "      <td>stocks</td>\n",
       "      <td>AutoModerator</td>\n",
       "      <td>1970-01-01 00:00:01.733308208</td>\n",
       "      <td>0.7650</td>\n",
       "    </tr>\n",
       "    <tr>\n",
       "      <th>4</th>\n",
       "      <td>1h691u7</td>\n",
       "      <td>I Want to Hear Your Thoughts on the Qualities ...</td>\n",
       "      <td>With Pat Gelsinger retiring the company is onc...</td>\n",
       "      <td>stocks</td>\n",
       "      <td>Intelligent-Snow-930</td>\n",
       "      <td>1970-01-01 00:00:01.733291089</td>\n",
       "      <td>0.5859</td>\n",
       "    </tr>\n",
       "  </tbody>\n",
       "</table>\n",
       "</div>"
      ],
      "text/plain": [
       "   post_id                                              title  \\\n",
       "0  1h6gd05  SpaceX shares available for investment through...   \n",
       "1  1h6ftzy  GM expects more than $5 billion impact from Ch...   \n",
       "2  1h6ffnf              Whats going on with the french index?   \n",
       "3  1h6d0rv  r/Stocks Daily Discussion Wednesday - Dec 04, ...   \n",
       "4  1h691u7  I Want to Hear Your Thoughts on the Qualities ...   \n",
       "\n",
       "                                             content subreddit  \\\n",
       "0  You can now invest in SpaceX with a SoFi accou...    stocks   \n",
       "1  General Motors expects a restructuring of its ...    stocks   \n",
       "2  Lets talk about the french CAC 40 index\\n \\nIn...    stocks   \n",
       "3  These daily discussions run from Monday to Fri...    stocks   \n",
       "4  With Pat Gelsinger retiring the company is onc...    stocks   \n",
       "\n",
       "                 author                   created_utc  sentiment  \n",
       "0            Progress_8 1970-01-01 00:00:01.733319984     0.4404  \n",
       "1             Puginator 1970-01-01 00:00:01.733318480    -0.7184  \n",
       "2          Slight_Candy 1970-01-01 00:00:01.733317295    -0.8277  \n",
       "3         AutoModerator 1970-01-01 00:00:01.733308208     0.7650  \n",
       "4  Intelligent-Snow-930 1970-01-01 00:00:01.733291089     0.5859  "
      ]
     },
     "execution_count": 22,
     "metadata": {},
     "output_type": "execute_result"
    }
   ],
   "source": [
    "df.head()"
   ]
  },
  {
   "cell_type": "code",
   "execution_count": null,
   "id": "62a11383-3844-4791-a2b0-5169c10d961e",
   "metadata": {},
   "outputs": [],
   "source": []
  }
 ],
 "metadata": {
  "kernelspec": {
   "display_name": "Python 3 (ipykernel)",
   "language": "python",
   "name": "python3"
  },
  "language_info": {
   "codemirror_mode": {
    "name": "ipython",
    "version": 3
   },
   "file_extension": ".py",
   "mimetype": "text/x-python",
   "name": "python",
   "nbconvert_exporter": "python",
   "pygments_lexer": "ipython3",
   "version": "3.11.9"
  }
 },
 "nbformat": 4,
 "nbformat_minor": 5
}
