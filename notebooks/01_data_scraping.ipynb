{
 "cells": [
  {
   "cell_type": "code",
   "execution_count": 2,
   "id": "92dee14c-1262-4fdf-a5cc-96a638624ec1",
   "metadata": {},
   "outputs": [],
   "source": [
    "import praw\n",
    "import pandas as pd\n",
    "from datetime import datetime\n"
   ]
  },
  {
   "cell_type": "code",
   "execution_count": 3,
   "id": "a49644ba-0ac3-4c74-ab26-250e1774e9dc",
   "metadata": {},
   "outputs": [
    {
     "name": "stdout",
     "output_type": "stream",
     "text": [
      "Authenticated as: None\n"
     ]
    }
   ],
   "source": [
    "# Replace with your credentials\n",
    "reddit = praw.Reddit(\n",
    "    client_id=\"34-AVonXEVJsMVbftbc2cA\",\n",
    "    client_secret=\"5P8SQW32l8oEWRghTMP64zEwCHmDnA\",\n",
    "    user_agent=\"TeslaDataScraper/0.1 by Pranay_Kumar_30\"\n",
    ")\n",
    "\n",
    "# Test the connection\n",
    "print(f\"Authenticated as: {reddit.user.me()}\")\n"
   ]
  },
  {
   "cell_type": "code",
   "execution_count": 4,
   "id": "9d692112-e7f1-4f3f-a526-3eac5aef2ce9",
   "metadata": {},
   "outputs": [
    {
     "name": "stdout",
     "output_type": "stream",
     "text": [
      "   post_id                                              title  \\\n",
      "0  1h6gd05  SpaceX shares available for investment through...   \n",
      "1  1h6ftzy  GM expects more than $5 billion impact from Ch...   \n",
      "2  1h6ffnf              Whats going on with the french index?   \n",
      "3  1h6d0rv  r/Stocks Daily Discussion Wednesday - Dec 04, ...   \n",
      "4  1h691u7  I Want to Hear Your Thoughts on the Qualities ...   \n",
      "\n",
      "                                             content subreddit  \\\n",
      "0  You can now invest in SpaceX with a SoFi accou...    stocks   \n",
      "1  General Motors expects a restructuring of its ...    stocks   \n",
      "2  Let's talk about the french CAC 40 index.\\n \\n...    stocks   \n",
      "3  These daily discussions run from Monday to Fri...    stocks   \n",
      "4  With Pat Gelsinger retiring, the company is on...    stocks   \n",
      "\n",
      "                 author   created_utc  \n",
      "0            Progress_8  1.733320e+09  \n",
      "1             Puginator  1.733318e+09  \n",
      "2          Slight_Candy  1.733317e+09  \n",
      "3         AutoModerator  1.733308e+09  \n",
      "4  Intelligent-Snow-930  1.733291e+09  \n"
     ]
    }
   ],
   "source": [
    "# Example: Fetch top 100 posts from r/stocks\n",
    "subreddit = reddit.subreddit(\"stocks\")\n",
    "posts = []\n",
    "\n",
    "for submission in subreddit.new(limit=100):  # Change limit as needed\n",
    "    posts.append({\n",
    "        'post_id': submission.id,\n",
    "        'title': submission.title,\n",
    "        'content': submission.selftext,\n",
    "        'subreddit': submission.subreddit.display_name,\n",
    "        'author': str(submission.author),\n",
    "        'created_utc': submission.created_utc\n",
    "    })\n",
    "\n",
    "# Convert to a DataFrame\n",
    "df = pd.DataFrame(posts)\n",
    "print(df.head())\n"
   ]
  },
  {
   "cell_type": "code",
   "execution_count": 5,
   "id": "3568c737-7db5-4c35-8232-2b6bdb9cf19e",
   "metadata": {},
   "outputs": [
    {
     "name": "stdout",
     "output_type": "stream",
     "text": [
      "Data saved to reddit_posts.csv\n"
     ]
    }
   ],
   "source": [
    "df.to_csv(\"reddit_posts.csv\", index=False)\n",
    "print(\"Data saved to reddit_posts.csv\")"
   ]
  },
  {
   "cell_type": "code",
   "execution_count": null,
   "id": "1b4a6b38-4782-49d3-a075-dd97d5143388",
   "metadata": {},
   "outputs": [],
   "source": []
  }
 ],
 "metadata": {
  "kernelspec": {
   "display_name": "Python 3 (ipykernel)",
   "language": "python",
   "name": "python3"
  },
  "language_info": {
   "codemirror_mode": {
    "name": "ipython",
    "version": 3
   },
   "file_extension": ".py",
   "mimetype": "text/x-python",
   "name": "python",
   "nbconvert_exporter": "python",
   "pygments_lexer": "ipython3",
   "version": "3.11.9"
  }
 },
 "nbformat": 4,
 "nbformat_minor": 5
}
